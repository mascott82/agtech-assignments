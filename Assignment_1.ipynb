{
  "cells": [
    {
      "cell_type": "markdown",
      "source": [
        "# Assignement 1"
      ],
      "metadata": {
        "id": "pkIv6ki2IEPX"
      }
    },
    {
      "cell_type": "markdown",
      "source": [
        "Please **do not** change, delete or edit any cells. Write your code in between designated lines."
      ],
      "metadata": {
        "id": "uPzTokrsLSZ9"
      }
    },
    {
      "cell_type": "markdown",
      "source": [
        "#### Question 1 (5 points)"
      ],
      "metadata": {
        "id": "qZaWKGXcJFuj"
      }
    },
    {
      "cell_type": "code",
      "source": [
        "# Here execute the following sentence - string \"I will be a data scientist\" by using print() function.\n",
        "\n",
        "## Your code here - down ##\n",
        "print(\"I will be a data scientist\")\n",
        "## Your code here - up ##"
      ],
      "metadata": {
        "id": "N-i0sQmcId4W",
        "colab": {
          "base_uri": "https://localhost:8080/"
        },
        "outputId": "8008ffd0-9d93-4eda-8891-fec357affa1a"
      },
      "execution_count": 1,
      "outputs": [
        {
          "output_type": "stream",
          "name": "stdout",
          "text": [
            "I will be a data scientist\n"
          ]
        }
      ]
    },
    {
      "cell_type": "markdown",
      "source": [
        "#### Question 2 (10 points)"
      ],
      "metadata": {
        "id": "XyeAqdgIJUUh"
      }
    },
    {
      "cell_type": "code",
      "source": [
        "# Assign a and b variables respectively with 10 and 12, then print sum of these two variables.\n",
        "\n",
        "## Your code here - down ##\n",
        "a, b = 10, 12\n",
        "print(a + b)\n",
        "## Your code here - up ##"
      ],
      "metadata": {
        "id": "y_BX1T8sJS9U",
        "colab": {
          "base_uri": "https://localhost:8080/"
        },
        "outputId": "f561f7ad-5225-464b-d22f-a5e2ddacffaf"
      },
      "execution_count": 2,
      "outputs": [
        {
          "output_type": "stream",
          "name": "stdout",
          "text": [
            "22\n"
          ]
        }
      ]
    },
    {
      "cell_type": "markdown",
      "source": [
        "Question 3 (20 Points)"
      ],
      "metadata": {
        "id": "wWP7OJtQKTNT"
      }
    },
    {
      "cell_type": "code",
      "source": [
        "# So we assigned a and b in the above cell. Let's write a code that print \n",
        "# \"a is greater b\" or \"a is less than b\" \n",
        "# by using Python's conditional statement (if - else). Please see training_1.\n",
        "\n",
        "## Your code here - down ##\n",
        "if a >= b:\n",
        "  print(\"a is greater than b\")\n",
        "else:\n",
        "  print(\"a is less than b\")\n",
        "## Your code here - up ##"
      ],
      "metadata": {
        "id": "FoCDtEylKPjY",
        "colab": {
          "base_uri": "https://localhost:8080/"
        },
        "outputId": "c5857b5b-55d0-4851-be1c-d96cf665f37e"
      },
      "execution_count": 3,
      "outputs": [
        {
          "output_type": "stream",
          "name": "stdout",
          "text": [
            "a is less than b\n"
          ]
        }
      ]
    },
    {
      "cell_type": "markdown",
      "source": [
        "#### Question 4 (40 points)"
      ],
      "metadata": {
        "id": "H5VZWM1lMIF4"
      }
    },
    {
      "cell_type": "code",
      "source": [
        "# We built a function - canola_convertion () to convert pounds to bushel for canola. \n",
        "# We added if and else conditional statement to this function\n",
        "# to print \"Yield was better this year\" in case Canola yield per acre was greater than 45 (Please see Training_1 file). \n",
        "# But now, we will use wheat instead of canola. Please give an example of 2400 pounds and convert it to bushels and\n",
        "# print if the year was good or bad. \n",
        "\n",
        "## Your code here - down ##\n",
        "\n",
        "def wheat_convertion(pounds, unit):\n",
        "  bushel_per_acre = pounds / unit\n",
        "  if bushel_per_acre > 45:\n",
        "    print(\"Yield was better this year: \")\n",
        "  else:\n",
        "    print(\"Yield was not good this year: \")\n",
        "  return bushel_per_acre\n",
        "\n",
        "wheat_convertion(2400, 50)\n",
        "\n",
        "## Your code here - up ##"
      ],
      "metadata": {
        "id": "dfPaZrkGMNRa",
        "colab": {
          "base_uri": "https://localhost:8080/"
        },
        "outputId": "1dca5664-c001-4112-d412-ef60095f420b"
      },
      "execution_count": 4,
      "outputs": [
        {
          "output_type": "stream",
          "name": "stdout",
          "text": [
            "Yield was better this year: \n"
          ]
        },
        {
          "output_type": "execute_result",
          "data": {
            "text/plain": [
              "48.0"
            ]
          },
          "metadata": {},
          "execution_count": 4
        }
      ]
    },
    {
      "cell_type": "markdown",
      "source": [
        "#### Question 5 (25 points)"
      ],
      "metadata": {
        "id": "XAECT2JJOlmA"
      }
    },
    {
      "cell_type": "code",
      "source": [
        "# Assign list that contains even numbers from 1 to 10. Then add apple word to the list. \n",
        "# It will look like 'apple' in the list. \n",
        "\n",
        "## Your code here - down ##\n",
        "\n",
        "lst = list(range(1, 11))\n",
        "lst.append('apple')\n",
        "lst\n",
        "\n",
        "## Your code here - up ##"
      ],
      "metadata": {
        "id": "Hn9rzk2GOr6c",
        "colab": {
          "base_uri": "https://localhost:8080/"
        },
        "outputId": "8c054596-a9d2-4224-dade-fefa7636aa03"
      },
      "execution_count": 5,
      "outputs": [
        {
          "output_type": "execute_result",
          "data": {
            "text/plain": [
              "[1, 2, 3, 4, 5, 6, 7, 8, 9, 10, 'apple']"
            ]
          },
          "metadata": {},
          "execution_count": 5
        }
      ]
    },
    {
      "cell_type": "code",
      "source": [
        "# Now it is time to delete 'apple' word from the list. It looks weird there.\n",
        "\n",
        "## Your code here - down ##\n",
        "lst.pop()\n",
        "lst\n",
        "## Your code here - up ##"
      ],
      "metadata": {
        "id": "hHYeNRHOPqX2",
        "colab": {
          "base_uri": "https://localhost:8080/"
        },
        "outputId": "c8f1df98-af7f-419e-d1b0-e81fa43ede03"
      },
      "execution_count": 6,
      "outputs": [
        {
          "output_type": "execute_result",
          "data": {
            "text/plain": [
              "[1, 2, 3, 4, 5, 6, 7, 8, 9, 10]"
            ]
          },
          "metadata": {},
          "execution_count": 6
        }
      ]
    },
    {
      "cell_type": "code",
      "source": [
        "# Can you print 6 only from the list? If yes, please show in the codes.\n",
        "\n",
        "## Your code here - down ##\n",
        "lst[5]\n",
        "## Your code here - up ##"
      ],
      "metadata": {
        "id": "cr2F3ZWNP3Wv",
        "colab": {
          "base_uri": "https://localhost:8080/"
        },
        "outputId": "a89b9e2c-743e-47ca-92d8-df5336166749"
      },
      "execution_count": 7,
      "outputs": [
        {
          "output_type": "execute_result",
          "data": {
            "text/plain": [
              "6"
            ]
          },
          "metadata": {},
          "execution_count": 7
        }
      ]
    },
    {
      "cell_type": "markdown",
      "source": [
        "END OF ASSIGNEMNT\n",
        "\n",
        "Thank you!"
      ],
      "metadata": {
        "id": "a6NObJGmQWaD"
      }
    }
  ],
  "metadata": {
    "kernelspec": {
      "display_name": "Python 3",
      "language": "python",
      "name": "python3"
    },
    "language_info": {
      "codemirror_mode": {
        "name": "ipython",
        "version": 3
      },
      "file_extension": ".py",
      "mimetype": "text/x-python",
      "name": "python",
      "nbconvert_exporter": "python",
      "pygments_lexer": "ipython3",
      "version": "3.6.3"
    },
    "colab": {
      "provenance": []
    }
  },
  "nbformat": 4,
  "nbformat_minor": 0
}