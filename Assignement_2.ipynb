{
  "nbformat": 4,
  "nbformat_minor": 0,
  "metadata": {
    "colab": {
      "provenance": []
    },
    "kernelspec": {
      "name": "python3",
      "display_name": "Python 3"
    },
    "language_info": {
      "name": "python"
    }
  },
  "cells": [
    {
      "cell_type": "markdown",
      "source": [
        "# Assignement 2\n"
      ],
      "metadata": {
        "id": "pf5SXa1XeBkI"
      }
    },
    {
      "cell_type": "markdown",
      "source": [
        "Please do not change, delete or edit any cells. Write your code in between designated lines.\n",
        "\n"
      ],
      "metadata": {
        "id": "txLDhiheeJtw"
      }
    },
    {
      "cell_type": "markdown",
      "source": [
        "## Question 1 (10 points)"
      ],
      "metadata": {
        "id": "pVXIH2TLfXYF"
      }
    },
    {
      "cell_type": "code",
      "source": [
        "# Can your print the letters of Agriculture by using for loops. Your output will look like this:\n",
        "# A\n",
        "# g\n",
        "# r\n",
        "# i\n",
        "# c\n",
        "# u\n",
        "# l\n",
        "# t\n",
        "# u\n",
        "# r\n",
        "# e\n",
        "\n",
        "## Your code here - down ##\n",
        "for letter in \"Agriculture\":\n",
        "  print(letter)\n",
        "## Your code here - up ##\n"
      ],
      "metadata": {
        "id": "VS-FTxUHfclH",
        "colab": {
          "base_uri": "https://localhost:8080/"
        },
        "outputId": "41c8d63e-cfdb-4de8-b8c8-4cb250ae99a7"
      },
      "execution_count": 1,
      "outputs": [
        {
          "output_type": "stream",
          "name": "stdout",
          "text": [
            "A\n",
            "g\n",
            "r\n",
            "i\n",
            "c\n",
            "u\n",
            "l\n",
            "t\n",
            "u\n",
            "r\n",
            "e\n"
          ]
        }
      ]
    },
    {
      "cell_type": "markdown",
      "source": [
        "## Question 2 (40 Points)"
      ],
      "metadata": {
        "id": "rTT_VIPMefpk"
      }
    },
    {
      "cell_type": "code",
      "source": [
        "# Find the sum of numbers from 1 to 50(including) by using for loops.\n",
        "\n",
        "## Your code here - down ##\n",
        "totalSum = 0\n",
        "for num in range(1, 51):\n",
        "  totalSum += num\n",
        "print(totalSum)\n",
        "## Your code here - up ##"
      ],
      "metadata": {
        "id": "dQp85EhveEWB",
        "colab": {
          "base_uri": "https://localhost:8080/"
        },
        "outputId": "8f524c1c-fb97-4128-8735-21f2e0a7f8d7"
      },
      "execution_count": 2,
      "outputs": [
        {
          "output_type": "stream",
          "name": "stdout",
          "text": [
            "1275\n"
          ]
        }
      ]
    },
    {
      "cell_type": "markdown",
      "source": [
        "## Question 3 (50 points)"
      ],
      "metadata": {
        "id": "gijHHMnjgZPy"
      }
    },
    {
      "cell_type": "code",
      "source": [
        "# Now let's find sum of even and odd numbers from 1 to 50 (including). Are the results same?\n",
        "\n",
        "# Sum of even  numbers\n",
        "\n",
        "## Your code here - down ##\n",
        "evenSum = 0\n",
        "for num in range(1, 51):\n",
        "  if num % 2 == 0:\n",
        "    evenSum += num\n",
        "print(evenSum)\n",
        "## Your code here - up ##"
      ],
      "metadata": {
        "id": "IXBo2RM2gYPR",
        "colab": {
          "base_uri": "https://localhost:8080/"
        },
        "outputId": "16962ae9-ffbd-4f5a-b9d8-b64dc0e70297"
      },
      "execution_count": 3,
      "outputs": [
        {
          "output_type": "stream",
          "name": "stdout",
          "text": [
            "650\n"
          ]
        }
      ]
    },
    {
      "cell_type": "code",
      "source": [
        "# Sum of odd numbers\n",
        "\n",
        "## Your code here - down ##\n",
        "oddNum = 0\n",
        "for num in range(1, 51, 2):\n",
        "  oddNum += num\n",
        "print(oddNum)\n",
        "## Your code here - up ##"
      ],
      "metadata": {
        "id": "xQh-bx6ohCe-",
        "colab": {
          "base_uri": "https://localhost:8080/"
        },
        "outputId": "55d22799-6c32-473c-d177-1407e206e3dc"
      },
      "execution_count": 4,
      "outputs": [
        {
          "output_type": "stream",
          "name": "stdout",
          "text": [
            "625\n"
          ]
        }
      ]
    },
    {
      "cell_type": "code",
      "source": [
        "# In this cell explain the difference.\n",
        "\n",
        "# The sum of even noumbers from 1 to 50 (including) is 650, \n",
        "# The sum of odd numbers from 1 to 50 (including) is 625,\n",
        "# They are not the same."
      ],
      "metadata": {
        "id": "OeIXVOYThLbA"
      },
      "execution_count": 5,
      "outputs": []
    },
    {
      "cell_type": "markdown",
      "source": [
        "### In this cell explain the difference.\n",
        "\n",
        "*   The sum of even noumbers from 1 to 50 (including) is 650, \n",
        "*   the sum of odd numbers from 1 to 50 (including) is 625,\n",
        "*   They are not the same.\n",
        "\n"
      ],
      "metadata": {
        "id": "vN2T_HORQmo6"
      }
    }
  ]
}