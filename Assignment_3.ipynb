{
  "nbformat": 4,
  "nbformat_minor": 0,
  "metadata": {
    "colab": {
      "provenance": []
    },
    "kernelspec": {
      "name": "python3",
      "display_name": "Python 3"
    },
    "language_info": {
      "name": "python"
    }
  },
  "cells": [
    {
      "cell_type": "markdown",
      "source": [
        "# Assignment 3"
      ],
      "metadata": {
        "id": "G_4Uq9AcI7KL"
      }
    },
    {
      "cell_type": "markdown",
      "source": [
        "Please do not change, delete or edit any cells. Write your code in between designated lines."
      ],
      "metadata": {
        "id": "fr_EGCu-JMed"
      }
    },
    {
      "cell_type": "markdown",
      "source": [
        "## Question 1 (15 points)"
      ],
      "metadata": {
        "id": "L69__o06JnIg"
      }
    },
    {
      "cell_type": "code",
      "source": [
        "# Create a dictionary named dict1 then add key and values.\n",
        "# When you print output of dict1 will be shown as {'Peas': 55, 'Canola': 66, 'Oat': 65}.\n",
        "\n",
        "## Your code here - down ##\n",
        "dict1 = {'Peas': 55, 'Canola': 66, 'Oat': 65}\n",
        "print(dict1)\n",
        "## Your code here - up ##"
      ],
      "metadata": {
        "id": "bVAI5ISdJOWR",
        "colab": {
          "base_uri": "https://localhost:8080/"
        },
        "outputId": "31c32d66-cd0b-4872-95d3-a453c95cf90d"
      },
      "execution_count": 1,
      "outputs": [
        {
          "output_type": "stream",
          "name": "stdout",
          "text": [
            "{'Peas': 55, 'Canola': 66, 'Oat': 65}\n"
          ]
        }
      ]
    },
    {
      "cell_type": "code",
      "source": [
        "# In this cell you need to change the assigned value of Peas to 66 and print dict1 again.\n",
        "\n",
        "## Your code here - down ##\n",
        "dict1['Peas'] = 66\n",
        "print(dict1)\n",
        "## Your code here - up ##"
      ],
      "metadata": {
        "id": "962MZgyEKSBw",
        "colab": {
          "base_uri": "https://localhost:8080/"
        },
        "outputId": "83e60fe0-0537-4c66-b480-5a44c4a21309"
      },
      "execution_count": 2,
      "outputs": [
        {
          "output_type": "stream",
          "name": "stdout",
          "text": [
            "{'Peas': 66, 'Canola': 66, 'Oat': 65}\n"
          ]
        }
      ]
    },
    {
      "cell_type": "code",
      "source": [
        "# Now use For Loop and print values and key inside dict1. Your output will look like:\n",
        "# Peas\n",
        "# 66\n",
        "# and so on.\n",
        "\n",
        "## Your code here - down ##\n",
        "for k, v in dict1.items():\n",
        "  print(k)\n",
        "  print(v)\n",
        "## Your code here - up ##"
      ],
      "metadata": {
        "id": "ZYkqG-uxKyMe",
        "colab": {
          "base_uri": "https://localhost:8080/"
        },
        "outputId": "2ceedd5f-fde3-487f-dd04-b08175a8558f"
      },
      "execution_count": 3,
      "outputs": [
        {
          "output_type": "stream",
          "name": "stdout",
          "text": [
            "Peas\n",
            "66\n",
            "Canola\n",
            "66\n",
            "Oat\n",
            "65\n"
          ]
        }
      ]
    },
    {
      "cell_type": "markdown",
      "source": [
        "## Question 2 (30 points)"
      ],
      "metadata": {
        "id": "e4Ugu5vNKohg"
      }
    },
    {
      "cell_type": "code",
      "source": [
        "ls = [2,7,9, 4]\n",
        "\n",
        "# Method 1\n",
        "# Ceate a list that consist of square of ls values.\n",
        "\n",
        "## Your code here - down ##\n",
        "sqls = [x ** 2 for x in ls]\n",
        "print(sqls)\n",
        "## Your code here - up ##"
      ],
      "metadata": {
        "id": "1MeSpsIaMFrn",
        "colab": {
          "base_uri": "https://localhost:8080/"
        },
        "outputId": "98f78a04-c380-4d08-8ed8-9ca19f7b43d6"
      },
      "execution_count": 4,
      "outputs": [
        {
          "output_type": "stream",
          "name": "stdout",
          "text": [
            "[4, 49, 81, 16]\n"
          ]
        }
      ]
    },
    {
      "cell_type": "code",
      "source": [
        "# Method 2\n",
        "\n",
        "## Your code here - down ##\n",
        "sqls2 = []\n",
        "for x in ls:\n",
        "  sqls2.append(x ** 2)\n",
        "print(sqls2)\n",
        "## Your code here - up ##"
      ],
      "metadata": {
        "id": "41u-FWnoMpfq",
        "colab": {
          "base_uri": "https://localhost:8080/"
        },
        "outputId": "d4fa83cd-1e78-44d0-8a0a-1fb009f9bfed"
      },
      "execution_count": 5,
      "outputs": [
        {
          "output_type": "stream",
          "name": "stdout",
          "text": [
            "[4, 49, 81, 16]\n"
          ]
        }
      ]
    },
    {
      "cell_type": "markdown",
      "source": [
        "## Question 3 (55 points)"
      ],
      "metadata": {
        "id": "eeYzaBCFMwgS"
      }
    },
    {
      "cell_type": "code",
      "source": [
        "import numpy as np\n",
        "\n",
        "ar_1 = np.array([[3, 4, 5],\n",
        "                 [3, 4, 5]])\n",
        "# What is shape of the array?\n",
        "\n",
        "## Your code here - down ##\n",
        "ar_1.shape\n",
        "## Your code here - up ##"
      ],
      "metadata": {
        "id": "OXhs3bGZM-Oj",
        "colab": {
          "base_uri": "https://localhost:8080/"
        },
        "outputId": "9a05fa2e-79d6-45fb-dd88-d356ed6306a2"
      },
      "execution_count": 6,
      "outputs": [
        {
          "output_type": "execute_result",
          "data": {
            "text/plain": [
              "(2, 3)"
            ]
          },
          "metadata": {},
          "execution_count": 6
        }
      ]
    },
    {
      "cell_type": "code",
      "source": [
        "ar_2 = ([[3, 4, 5],\n",
        "         [8, 4, 1]])\n",
        "# Print first row of ar_2\n",
        "\n",
        "## Your code here - down ##\n",
        "ar_2[0]\n",
        "## Your code here - up ##"
      ],
      "metadata": {
        "id": "oOm_o0nCNWGD",
        "colab": {
          "base_uri": "https://localhost:8080/"
        },
        "outputId": "f69a5beb-859f-461c-be43-8d854b00bbf3"
      },
      "execution_count": 7,
      "outputs": [
        {
          "output_type": "execute_result",
          "data": {
            "text/plain": [
              "[3, 4, 5]"
            ]
          },
          "metadata": {},
          "execution_count": 7
        }
      ]
    },
    {
      "cell_type": "code",
      "source": [
        "# Write a code that will print 1 in ar_2.\n",
        "\n",
        "## Your code here - down ##\n",
        "ar_2[1][2]\n",
        "## Your code here - up ##"
      ],
      "metadata": {
        "id": "y9bfDeDQOBAn",
        "colab": {
          "base_uri": "https://localhost:8080/"
        },
        "outputId": "f2553015-b2dc-40c2-ef89-acac7281eb2c"
      },
      "execution_count": 8,
      "outputs": [
        {
          "output_type": "execute_result",
          "data": {
            "text/plain": [
              "1"
            ]
          },
          "metadata": {},
          "execution_count": 8
        }
      ]
    },
    {
      "cell_type": "code",
      "source": [
        "# Print entire mean of ar_2\n",
        "\n",
        "## Your code here - down ##\n",
        "np.mean(ar_2)\n",
        "\n",
        "## Your code here - up ##"
      ],
      "metadata": {
        "id": "qSs9eeJZOPSs",
        "colab": {
          "base_uri": "https://localhost:8080/"
        },
        "outputId": "c42cb1d7-b967-44e2-d884-bcbf4143041a"
      },
      "execution_count": 9,
      "outputs": [
        {
          "output_type": "execute_result",
          "data": {
            "text/plain": [
              "4.166666666666667"
            ]
          },
          "metadata": {},
          "execution_count": 9
        }
      ]
    },
    {
      "cell_type": "code",
      "source": [
        "# Print each columns' mean\n",
        "\n",
        "## Your code here - down ##\n",
        "np.mean(ar_2, axis = 0)\n",
        "## Your code here - up ##"
      ],
      "metadata": {
        "id": "eoWFWqzLOiuP",
        "colab": {
          "base_uri": "https://localhost:8080/"
        },
        "outputId": "26491a6f-e151-453c-d812-9463e55b1740"
      },
      "execution_count": 10,
      "outputs": [
        {
          "output_type": "execute_result",
          "data": {
            "text/plain": [
              "array([5.5, 4. , 3. ])"
            ]
          },
          "metadata": {},
          "execution_count": 10
        }
      ]
    },
    {
      "cell_type": "code",
      "source": [
        "# Print entire standard deviation  of ar_2\n",
        "\n",
        "## Your code here - down ##\n",
        "np.std(ar_2)\n",
        "## Your code here - up ##"
      ],
      "metadata": {
        "id": "z2JxGSG1OyR1",
        "colab": {
          "base_uri": "https://localhost:8080/"
        },
        "outputId": "77ac4b3d-9d72-45ca-ffb5-03d7ec740966"
      },
      "execution_count": 11,
      "outputs": [
        {
          "output_type": "execute_result",
          "data": {
            "text/plain": [
              "2.1147629234082532"
            ]
          },
          "metadata": {},
          "execution_count": 11
        }
      ]
    },
    {
      "cell_type": "code",
      "source": [
        "# Print each rows' standard deviation.\n",
        "\n",
        "## Your code here - down ##\n",
        "np.std(ar_2, axis = 1)\n",
        "## Your code here - up ##"
      ],
      "metadata": {
        "id": "MxSBTiL4O4-W",
        "colab": {
          "base_uri": "https://localhost:8080/"
        },
        "outputId": "2021e424-c37f-43b8-c471-ef84cff86450"
      },
      "execution_count": 12,
      "outputs": [
        {
          "output_type": "execute_result",
          "data": {
            "text/plain": [
              "array([0.81649658, 2.86744176])"
            ]
          },
          "metadata": {},
          "execution_count": 12
        }
      ]
    },
    {
      "cell_type": "code",
      "source": [
        "# Find the difference between mean and median of entire ar_2.\n",
        "\n",
        "## Your code here - down ##\n",
        "print(np.median(ar_2))\n",
        "\n",
        "print(np.mean(ar_2) == np.median(ar_2))\n",
        "## Your code here - up ##"
      ],
      "metadata": {
        "id": "XF4u_fPtPBAX",
        "colab": {
          "base_uri": "https://localhost:8080/"
        },
        "outputId": "c7d2b53f-ab52-420e-af11-ec8e303de141"
      },
      "execution_count": 13,
      "outputs": [
        {
          "output_type": "stream",
          "name": "stdout",
          "text": [
            "4.0\n",
            "False\n"
          ]
        }
      ]
    },
    {
      "cell_type": "markdown",
      "source": [
        "Are mean and median same? If they are different, explain what does that mean.\n",
        "\n",
        "Please explain below in this cell only.\n",
        "\n",
        "*Mean and median are not the same,*\n",
        "\n",
        "*the mean is the sum of all values divided by the number of values,*\n",
        "\n",
        "*the median is the middle value in a set of numbers (or the average of the middle two values if the set has an even number of elements).* "
      ],
      "metadata": {
        "id": "ziac1rfuPp8H"
      }
    }
  ]
}