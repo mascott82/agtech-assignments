{
 "cells": [
  {
   "cell_type": "markdown",
   "metadata": {
    "id": "xRFQJjmAgPPv"
   },
   "source": [
    "# Assignment 4"
   ]
  },
  {
   "cell_type": "markdown",
   "metadata": {
    "id": "eLY9HOokgoNX"
   },
   "source": [
    "\n",
    "Please do not change, delete or edit any cells. Write your code in between designated lines."
   ]
  },
  {
   "cell_type": "markdown",
   "metadata": {
    "id": "0iiZnyE_hHm4"
   },
   "source": [
    "## Question 1 (25 points)"
   ]
  },
  {
   "cell_type": "code",
   "execution_count": 1,
   "metadata": {
    "id": "jwfycLiWgVa0"
   },
   "outputs": [],
   "source": [
    "# Please go to Palette_training_4 GitHub repo and \n",
    "# 1. Read Sask_RM_data.csv.\n",
    "# 2. Rename column namse Crop Year, Canola - bu/ac, Spring Wheat - bu/ac with\n",
    "# Year, Canola, SpringWheat respectively."
   ]
  },
  {
   "cell_type": "code",
   "execution_count": 2,
   "metadata": {},
   "outputs": [],
   "source": [
    "import pandas as pd\n",
    "import numpy as np\n",
    "import matplotlib.pyplot as plt\n",
    "import seaborn as sns"
   ]
  },
  {
   "cell_type": "code",
   "execution_count": 3,
   "metadata": {
    "id": "1SX-x2rqkvbV"
   },
   "outputs": [
    {
     "data": {
      "text/html": [
       "<div>\n",
       "<style scoped>\n",
       "    .dataframe tbody tr th:only-of-type {\n",
       "        vertical-align: middle;\n",
       "    }\n",
       "\n",
       "    .dataframe tbody tr th {\n",
       "        vertical-align: top;\n",
       "    }\n",
       "\n",
       "    .dataframe thead th {\n",
       "        text-align: right;\n",
       "    }\n",
       "</style>\n",
       "<table border=\"1\" class=\"dataframe\">\n",
       "  <thead>\n",
       "    <tr style=\"text-align: right;\">\n",
       "      <th></th>\n",
       "      <th>Crop Year</th>\n",
       "      <th>RM</th>\n",
       "      <th>Canola - bu/ac</th>\n",
       "      <th>Spring Wheat - bu/ac</th>\n",
       "    </tr>\n",
       "  </thead>\n",
       "  <tbody>\n",
       "    <tr>\n",
       "      <th>0</th>\n",
       "      <td>2012</td>\n",
       "      <td>1</td>\n",
       "      <td>22.3</td>\n",
       "      <td>36.2</td>\n",
       "    </tr>\n",
       "    <tr>\n",
       "      <th>1</th>\n",
       "      <td>2012</td>\n",
       "      <td>2</td>\n",
       "      <td>28.6</td>\n",
       "      <td>37.2</td>\n",
       "    </tr>\n",
       "    <tr>\n",
       "      <th>2</th>\n",
       "      <td>2012</td>\n",
       "      <td>3</td>\n",
       "      <td>25.1</td>\n",
       "      <td>39.4</td>\n",
       "    </tr>\n",
       "    <tr>\n",
       "      <th>3</th>\n",
       "      <td>2012</td>\n",
       "      <td>4</td>\n",
       "      <td>21.6</td>\n",
       "      <td>31.6</td>\n",
       "    </tr>\n",
       "    <tr>\n",
       "      <th>4</th>\n",
       "      <td>2012</td>\n",
       "      <td>5</td>\n",
       "      <td>26.8</td>\n",
       "      <td>29.0</td>\n",
       "    </tr>\n",
       "  </tbody>\n",
       "</table>\n",
       "</div>"
      ],
      "text/plain": [
       "   Crop Year  RM  Canola - bu/ac  Spring Wheat - bu/ac\n",
       "0       2012   1            22.3                  36.2\n",
       "1       2012   2            28.6                  37.2\n",
       "2       2012   3            25.1                  39.4\n",
       "3       2012   4            21.6                  31.6\n",
       "4       2012   5            26.8                  29.0"
      ]
     },
     "execution_count": 3,
     "metadata": {},
     "output_type": "execute_result"
    }
   ],
   "source": [
    "# 1. Read csv file by using pandas \n",
    "\n",
    "## Your code here - down ##\n",
    "df = pd.read_csv('Sask_RM_data.csv')\n",
    "df.head()\n",
    "## Your code here - up ##"
   ]
  },
  {
   "cell_type": "code",
   "execution_count": 4,
   "metadata": {
    "id": "cdGqn-qvksVg"
   },
   "outputs": [
    {
     "data": {
      "text/html": [
       "<div>\n",
       "<style scoped>\n",
       "    .dataframe tbody tr th:only-of-type {\n",
       "        vertical-align: middle;\n",
       "    }\n",
       "\n",
       "    .dataframe tbody tr th {\n",
       "        vertical-align: top;\n",
       "    }\n",
       "\n",
       "    .dataframe thead th {\n",
       "        text-align: right;\n",
       "    }\n",
       "</style>\n",
       "<table border=\"1\" class=\"dataframe\">\n",
       "  <thead>\n",
       "    <tr style=\"text-align: right;\">\n",
       "      <th></th>\n",
       "      <th>Year</th>\n",
       "      <th>RM</th>\n",
       "      <th>Canola</th>\n",
       "      <th>SpringWheat</th>\n",
       "    </tr>\n",
       "  </thead>\n",
       "  <tbody>\n",
       "    <tr>\n",
       "      <th>0</th>\n",
       "      <td>2012</td>\n",
       "      <td>1</td>\n",
       "      <td>22.3</td>\n",
       "      <td>36.2</td>\n",
       "    </tr>\n",
       "    <tr>\n",
       "      <th>1</th>\n",
       "      <td>2012</td>\n",
       "      <td>2</td>\n",
       "      <td>28.6</td>\n",
       "      <td>37.2</td>\n",
       "    </tr>\n",
       "    <tr>\n",
       "      <th>2</th>\n",
       "      <td>2012</td>\n",
       "      <td>3</td>\n",
       "      <td>25.1</td>\n",
       "      <td>39.4</td>\n",
       "    </tr>\n",
       "    <tr>\n",
       "      <th>3</th>\n",
       "      <td>2012</td>\n",
       "      <td>4</td>\n",
       "      <td>21.6</td>\n",
       "      <td>31.6</td>\n",
       "    </tr>\n",
       "    <tr>\n",
       "      <th>4</th>\n",
       "      <td>2012</td>\n",
       "      <td>5</td>\n",
       "      <td>26.8</td>\n",
       "      <td>29.0</td>\n",
       "    </tr>\n",
       "  </tbody>\n",
       "</table>\n",
       "</div>"
      ],
      "text/plain": [
       "   Year  RM  Canola  SpringWheat\n",
       "0  2012   1    22.3         36.2\n",
       "1  2012   2    28.6         37.2\n",
       "2  2012   3    25.1         39.4\n",
       "3  2012   4    21.6         31.6\n",
       "4  2012   5    26.8         29.0"
      ]
     },
     "execution_count": 4,
     "metadata": {},
     "output_type": "execute_result"
    }
   ],
   "source": [
    "# 2. Rename columns\n",
    "\n",
    "## Your code here - down ##\n",
    "df.rename(\n",
    "    columns = {\n",
    "        \"Crop Year\":\"Year\",\n",
    "        \"Canola - bu/ac\":\"Canola\",\n",
    "        \"Spring Wheat - bu/ac\":\"SpringWheat\"\n",
    "              },\n",
    "    inplace = True\n",
    "    )\n",
    "df.head()\n",
    "## Your code here - up ##"
   ]
  },
  {
   "cell_type": "markdown",
   "metadata": {
    "id": "CVL1VhWNj06v"
   },
   "source": [
    "Question 2 (65 points)"
   ]
  },
  {
   "cell_type": "code",
   "execution_count": 5,
   "metadata": {
    "id": "obXacM3uiCcE"
   },
   "outputs": [
    {
     "data": {
      "text/plain": [
       "Year            0\n",
       "RM              0\n",
       "Canola         45\n",
       "SpringWheat    51\n",
       "dtype: int64"
      ]
     },
     "execution_count": 5,
     "metadata": {},
     "output_type": "execute_result"
    }
   ],
   "source": [
    "# 1. How many missing values in each column? \n",
    "\n",
    "## Your code here - down ##\n",
    "df.isna().sum()\n",
    "## Your code here - up ##"
   ]
  },
  {
   "cell_type": "code",
   "execution_count": 6,
   "metadata": {
    "id": "wNZcRd9bkhTS"
   },
   "outputs": [
    {
     "data": {
      "text/plain": [
       "295"
      ]
     },
     "execution_count": 6,
     "metadata": {},
     "output_type": "execute_result"
    }
   ],
   "source": [
    "# 2. Find unique values of RMs(Rural Municipalities).\n",
    "\n",
    "## Your code here - down ##\n",
    "df['RM'].nunique()\n",
    "## Your code here - up ##"
   ]
  },
  {
   "cell_type": "code",
   "execution_count": 7,
   "metadata": {
    "id": "X-7AiMCZkiji"
   },
   "outputs": [
    {
     "data": {
      "text/plain": [
       "RM\n",
       "271    45.284\n",
       "470    45.018\n",
       "439    44.116\n",
       "303    43.624\n",
       "338    42.881\n",
       "493    42.819\n",
       "440    42.747\n",
       "464    42.515\n",
       "410    42.223\n",
       "434    41.868\n",
       "Name: Canola, dtype: float64"
      ]
     },
     "execution_count": 7,
     "metadata": {},
     "output_type": "execute_result"
    }
   ],
   "source": [
    "# 3. Use groupby() and find top 10 RMs in terms of average Canola yield through 10 years.\n",
    "\n",
    "## Your code here - down ##\n",
    "df.groupby(\"RM\")[\"Canola\"].mean().sort_values(ascending=False).head(10)\n",
    "## Your code here - up ##"
   ]
  },
  {
   "cell_type": "code",
   "execution_count": 8,
   "metadata": {
    "id": "JqIEftfSmJha"
   },
   "outputs": [
    {
     "data": {
      "text/plain": [
       "RM\n",
       "44     20.339000\n",
       "10     21.168571\n",
       "69     22.418000\n",
       "45     22.920000\n",
       "40     23.265000\n",
       "19     24.163000\n",
       "51     24.683000\n",
       "101    24.993000\n",
       "9      25.364000\n",
       "70     25.807000\n",
       "Name: SpringWheat, dtype: float64"
      ]
     },
     "execution_count": 8,
     "metadata": {},
     "output_type": "execute_result"
    }
   ],
   "source": [
    "# 4. Use groupby() function and find worst 10 RMs in terms of average Spring Wheat through 10 years.\n",
    "\n",
    "## Your code here - down ##\n",
    "df.groupby(\"RM\")[\"SpringWheat\"].mean().sort_values().head(10)\n",
    "## Your code here - up ##"
   ]
  },
  {
   "cell_type": "code",
   "execution_count": 9,
   "metadata": {
    "id": "_u735AcFmyKX"
   },
   "outputs": [
    {
     "data": {
      "text/plain": [
       "Year\n",
       "2020    49.443357\n",
       "2019    49.227431\n",
       "2013    47.431525\n",
       "Name: SpringWheat, dtype: float64"
      ]
     },
     "execution_count": 9,
     "metadata": {},
     "output_type": "execute_result"
    }
   ],
   "source": [
    "# 4. Use groupby() function and find worst 3 best years in terms of average Spring Wheat.\n",
    "\n",
    "## Your code here - down ##\n",
    "df.groupby(\"Year\")[\"SpringWheat\"].mean().sort_values(ascending=False).head(3)\n",
    "## Your code here - up ##"
   ]
  },
  {
   "cell_type": "code",
   "execution_count": 10,
   "metadata": {
    "id": "VIeb0E0SmSYf"
   },
   "outputs": [
    {
     "data": {
      "text/plain": [
       "Year\n",
       "2021    30.216725\n",
       "2012    34.831633\n",
       "2015    37.016599\n",
       "Name: SpringWheat, dtype: float64"
      ]
     },
     "execution_count": 10,
     "metadata": {},
     "output_type": "execute_result"
    }
   ],
   "source": [
    "# 5. Use groupby() function and find worst 3 years in terms of average Spring Wheat through 10 years.\n",
    "\n",
    "## Your code here - down ##\n",
    "df.groupby(\"Year\")[\"SpringWheat\"].mean().sort_values().head(3)\n",
    "## Your code here - up ##"
   ]
  },
  {
   "cell_type": "markdown",
   "metadata": {
    "id": "jmsH1mGWpu3L"
   },
   "source": [
    "## Question 3 (10 points)"
   ]
  },
  {
   "cell_type": "markdown",
   "metadata": {
    "id": "U6OG5ANHp39Y"
   },
   "source": [
    "This task is independent exploratory data analysis. Find key insights from the dataset and share your code by creating new cells."
   ]
  },
  {
   "cell_type": "code",
   "execution_count": 11,
   "metadata": {},
   "outputs": [
    {
     "name": "stdout",
     "output_type": "stream",
     "text": [
      "<class 'pandas.core.frame.DataFrame'>\n",
      "RangeIndex: 2950 entries, 0 to 2949\n",
      "Data columns (total 4 columns):\n",
      " #   Column       Non-Null Count  Dtype  \n",
      "---  ------       --------------  -----  \n",
      " 0   Year         2950 non-null   int64  \n",
      " 1   RM           2950 non-null   int64  \n",
      " 2   Canola       2905 non-null   float64\n",
      " 3   SpringWheat  2899 non-null   float64\n",
      "dtypes: float64(2), int64(2)\n",
      "memory usage: 92.3 KB\n"
     ]
    }
   ],
   "source": [
    "df.info()"
   ]
  },
  {
   "cell_type": "markdown",
   "metadata": {},
   "source": [
    "### Observation: ###\n",
    "\n",
    "- There are **2950** observations and **4** columns in the data.\n",
    "- All four variables are of numeric data type.\n",
    "- There are **45** null values exists in column **Canola**. \n",
    "- There are **51** null values exists in column **SpringWheat**. \n",
    "- We will fix these null values further."
   ]
  },
  {
   "cell_type": "code",
   "execution_count": 12,
   "metadata": {},
   "outputs": [
    {
     "data": {
      "text/plain": [
       "0"
      ]
     },
     "execution_count": 12,
     "metadata": {},
     "output_type": "execute_result"
    }
   ],
   "source": [
    "df['Canola'].fillna(df['Canola'].median(), inplace=True)\n",
    "df['Canola'].isna().sum()"
   ]
  },
  {
   "cell_type": "code",
   "execution_count": 13,
   "metadata": {},
   "outputs": [
    {
     "data": {
      "text/plain": [
       "0"
      ]
     },
     "execution_count": 13,
     "metadata": {},
     "output_type": "execute_result"
    }
   ],
   "source": [
    "df['SpringWheat'].fillna(df['SpringWheat'].median(), inplace=True)\n",
    "df['SpringWheat'].isna().sum()"
   ]
  },
  {
   "cell_type": "markdown",
   "metadata": {},
   "source": [
    "- Let's replace those null values first.\n",
    "- Fill null values of column **'Canola'** with the **median** of this column.\n",
    "- Fill null values of column **'SpringWheat'** with the **median** of this column."
   ]
  },
  {
   "cell_type": "code",
   "execution_count": 14,
   "metadata": {
    "scrolled": true
   },
   "outputs": [
    {
     "data": {
      "text/html": [
       "<div>\n",
       "<style scoped>\n",
       "    .dataframe tbody tr th:only-of-type {\n",
       "        vertical-align: middle;\n",
       "    }\n",
       "\n",
       "    .dataframe tbody tr th {\n",
       "        vertical-align: top;\n",
       "    }\n",
       "\n",
       "    .dataframe thead th {\n",
       "        text-align: right;\n",
       "    }\n",
       "</style>\n",
       "<table border=\"1\" class=\"dataframe\">\n",
       "  <thead>\n",
       "    <tr style=\"text-align: right;\">\n",
       "      <th></th>\n",
       "      <th>count</th>\n",
       "      <th>mean</th>\n",
       "      <th>std</th>\n",
       "      <th>min</th>\n",
       "      <th>25%</th>\n",
       "      <th>50%</th>\n",
       "      <th>75%</th>\n",
       "      <th>max</th>\n",
       "    </tr>\n",
       "  </thead>\n",
       "  <tbody>\n",
       "    <tr>\n",
       "      <th>Year</th>\n",
       "      <td>2950.0</td>\n",
       "      <td>2016.500000</td>\n",
       "      <td>2.872768</td>\n",
       "      <td>2012.0</td>\n",
       "      <td>2014.000</td>\n",
       "      <td>2016.50</td>\n",
       "      <td>2019.0</td>\n",
       "      <td>2021.00</td>\n",
       "    </tr>\n",
       "    <tr>\n",
       "      <th>RM</th>\n",
       "      <td>2950.0</td>\n",
       "      <td>247.298305</td>\n",
       "      <td>148.244294</td>\n",
       "      <td>1.0</td>\n",
       "      <td>123.000</td>\n",
       "      <td>246.00</td>\n",
       "      <td>369.0</td>\n",
       "      <td>622.00</td>\n",
       "    </tr>\n",
       "    <tr>\n",
       "      <th>Canola</th>\n",
       "      <td>2950.0</td>\n",
       "      <td>34.553329</td>\n",
       "      <td>9.195351</td>\n",
       "      <td>4.0</td>\n",
       "      <td>28.485</td>\n",
       "      <td>35.60</td>\n",
       "      <td>41.2</td>\n",
       "      <td>57.93</td>\n",
       "    </tr>\n",
       "    <tr>\n",
       "      <th>SpringWheat</th>\n",
       "      <td>2950.0</td>\n",
       "      <td>42.013749</td>\n",
       "      <td>11.935453</td>\n",
       "      <td>3.3</td>\n",
       "      <td>34.470</td>\n",
       "      <td>42.31</td>\n",
       "      <td>49.9</td>\n",
       "      <td>198.00</td>\n",
       "    </tr>\n",
       "  </tbody>\n",
       "</table>\n",
       "</div>"
      ],
      "text/plain": [
       "              count         mean         std     min       25%      50%  \\\n",
       "Year         2950.0  2016.500000    2.872768  2012.0  2014.000  2016.50   \n",
       "RM           2950.0   247.298305  148.244294     1.0   123.000   246.00   \n",
       "Canola       2950.0    34.553329    9.195351     4.0    28.485    35.60   \n",
       "SpringWheat  2950.0    42.013749   11.935453     3.3    34.470    42.31   \n",
       "\n",
       "                75%      max  \n",
       "Year         2019.0  2021.00  \n",
       "RM            369.0   622.00  \n",
       "Canola         41.2    57.93  \n",
       "SpringWheat    49.9   198.00  "
      ]
     },
     "execution_count": 14,
     "metadata": {},
     "output_type": "execute_result"
    }
   ],
   "source": [
    "df.describe().T"
   ]
  },
  {
   "cell_type": "markdown",
   "metadata": {},
   "source": [
    "### Observation: ###\n",
    "\n",
    "- This dataset covers data year ranges from **2012** to **2021**, **ten years** in total.\n",
    "- The average bu/ac of Canola is **34.55**.\n",
    "- The average bu/ac of Spring Wheat is **42.01**."
   ]
  },
  {
   "cell_type": "code",
   "execution_count": 15,
   "metadata": {},
   "outputs": [
    {
     "name": "stdout",
     "output_type": "stream",
     "text": [
      "Year\n",
      "Skew :  0.0\n"
     ]
    },
    {
     "data": {
      "image/png": "[encoded data removed]",
      "text/plain": [
       "<Figure size 1500x400 with 2 Axes>"
      ]
     },
     "metadata": {},
     "output_type": "display_data"
    },
    {
     "name": "stdout",
     "output_type": "stream",
     "text": [
      "RM\n",
      "Skew :  0.16\n"
     ]
    },
    {
     "data": {
      "image/png": "[encoded data removed]",
      "text/plain": [
       "<Figure size 1500x400 with 2 Axes>"
      ]
     },
     "metadata": {},
     "output_type": "display_data"
    },
    {
     "name": "stdout",
     "output_type": "stream",
     "text": [
      "Canola\n",
      "Skew :  -0.47\n"
     ]
    },
    {
     "data": {
      "image/png": "[encoded data removed]",
      "text/plain": [
       "<Figure size 1500x400 with 2 Axes>"
      ]
     },
     "metadata": {},
     "output_type": "display_data"
    },
    {
     "name": "stdout",
     "output_type": "stream",
     "text": [
      "SpringWheat\n",
      "Skew :  0.56\n"
     ]
    },
    {
     "data": {
      "image/png": "[encoded data removed]",
      "text/plain": [
       "<Figure size 1500x400 with 2 Axes>"
      ]
     },
     "metadata": {},
     "output_type": "display_data"
    }
   ],
   "source": [
    "for col in df.columns:\n",
    "    print(col)\n",
    "    print('Skew : ', round(df[col].skew(), 2))\n",
    "    plt.figure(figsize=(15, 4))\n",
    "    plt.subplot(1,2,1)\n",
    "    df[col].hist(bins=10, grid=False)\n",
    "    plt.ylabel('count')\n",
    "    plt.subplot(1,2,2)\n",
    "    sns.boxplot(x=df[col])\n",
    "    plt.show()"
   ]
  },
  {
   "cell_type": "markdown",
   "metadata": {},
   "source": [
    "### Observations: ###\n",
    "\n",
    "- There are extreme values exist in columns **'Canola'** and **'SpringWheat'**.\n",
    "- The **SpringWheat** is normally distributed.\n",
    "- The **Canola** column is left skewed.\n",
    "- The most bu/ac of **Canola** is around **40**.\n",
    "- The most bu/ac of **Spring Wheat** is around **50**."
   ]
  }
 ],
 "metadata": {
  "colab": {
   "provenance": []
  },
  "kernelspec": {
   "display_name": "Python 3 (ipykernel)",
   "language": "python",
   "name": "python3"
  },
  "language_info": {
   "codemirror_mode": {
    "name": "ipython",
    "version": 3
   },
   "file_extension": ".py",
   "mimetype": "text/x-python",
   "name": "python",
   "nbconvert_exporter": "python",
   "pygments_lexer": "ipython3",
   "version": "3.9.13"
  },
  "vscode": {
   "interpreter": {
    "hash": "5c7b89af1651d0b8571dde13640ecdccf7d5a6204171d6ab33e7c296e100e08a"
   }
  }
 },
 "nbformat": 4,
 "nbformat_minor": 1
}
